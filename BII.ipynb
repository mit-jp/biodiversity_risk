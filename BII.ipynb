{
 "cells": [
  {
   "cell_type": "code",
   "execution_count": 135,
   "metadata": {
    "pycharm": {
     "name": "#%%\n"
    }
   },
   "outputs": [],
   "source": [
    "import pandas as pd\n",
    "import pycountry"
   ]
  },
  {
   "cell_type": "code",
   "execution_count": 136,
   "metadata": {
    "pycharm": {
     "name": "#%%\n"
    }
   },
   "outputs": [
    {
     "name": "stdout",
     "output_type": "stream",
     "text": [
      "           _id        area_code                scenario     variable  year  \\\n",
      "0       301756           global              historical          bii  1970   \n",
      "1       301757          001-002              historical          bii  1970   \n",
      "2       301758          001-009              historical          bii  1970   \n",
      "3       301759          001-019              historical          bii  1970   \n",
      "4       301760          001-142              historical          bii  1970   \n",
      "...        ...              ...                     ...          ...   ...   \n",
      "376987  678743  001-150-155-LIE  ssp5rcp8p5remindmagpie  urbanextent  2050   \n",
      "376988  678744  001-150-155-LUX  ssp5rcp8p5remindmagpie  urbanextent  2050   \n",
      "376989  678745  001-150-155-NLD  ssp5rcp8p5remindmagpie  urbanextent  2050   \n",
      "376990  678746          001-ATA  ssp5rcp8p5remindmagpie  urbanextent  2050   \n",
      "376991  678747              NaN  ssp5rcp8p5remindmagpie  urbanextent  2050   \n",
      "\n",
      "           value  lower_uncertainty  upper_uncertainty region  \n",
      "0       0.797548           0.773967           0.858582    bal  \n",
      "1       0.835351           0.805472           0.905279    002  \n",
      "2       0.705095           0.682165           0.788158    009  \n",
      "3       0.813557           0.794943           0.853850    019  \n",
      "4       0.752678           0.721941           0.838032    142  \n",
      "...          ...                ...                ...    ...  \n",
      "376987  0.037774                NaN                NaN    LIE  \n",
      "376988  0.113514                NaN                NaN    LUX  \n",
      "376989  0.122811                NaN                NaN    NLD  \n",
      "376990       NaN                NaN                NaN    ATA  \n",
      "376991  0.059755                NaN                NaN    nan  \n",
      "\n",
      "[376992 rows x 9 columns]\n"
     ]
    }
   ],
   "source": [
    "\n",
    "df = pd.read_csv(\"BII.csv\",na_values=['nan'])\n",
    "df = df.dropna(axis=1, how='all', thresh=None, subset=None, inplace=False)\n",
    "for i in range(len(df)):\n",
    "    df.loc[i,\"region\"]=str(df.loc[i,\"area_code\"])[-3:]\n",
    "print(df)"
   ]
  },
  {
   "cell_type": "code",
   "execution_count": 137,
   "outputs": [],
   "source": [
    "mapping = [country.alpha_3 for country in pycountry.countries]\n",
    "df = df[df['variable'] == \"bii\"]\n",
    "df = df[df['scenario'] == \"historical\"]\n",
    "df.loc[ df[\"region\"].isin(mapping), : ]\n",
    "df = df[[\"region\",\"year\",\"value\",\"lower_uncertainty\",\"upper_uncertainty\"]]"
   ],
   "metadata": {
    "collapsed": false,
    "pycharm": {
     "name": "#%%\n"
    }
   }
  },
  {
   "cell_type": "code",
   "execution_count": 138,
   "outputs": [],
   "source": [
    "import plotly.io as pio\n",
    "pio.renderers.default = \"browser\"\n",
    "\n",
    "import plotly.express as px\n",
    "fig = px.choropleth(df,locations=\"region\",\n",
    "                    color=\"value\",\n",
    "                    hover_name=\"region\",\n",
    "                    animation_frame=\"year\",\n",
    "                    color_continuous_scale=\"Viridis\",\n",
    "                    range_color=(0, 1)\n",
    "                    #,scope=\"africa\"\n",
    "                    )\n",
    "fig[\"layout\"].pop(\"updatemenus\")\n",
    "fig.show()\n",
    "fig.write_image(\"bii.pdf\")\n"
   ],
   "metadata": {
    "collapsed": false,
    "pycharm": {
     "name": "#%%\n"
    }
   }
  },
  {
   "cell_type": "code",
   "execution_count": null,
   "outputs": [],
   "source": [],
   "metadata": {
    "collapsed": false,
    "pycharm": {
     "name": "#%%\n"
    }
   }
  },
  {
   "cell_type": "code",
   "execution_count": null,
   "metadata": {
    "pycharm": {
     "name": "#%%\n"
    }
   },
   "outputs": [],
   "source": []
  }
 ],
 "metadata": {
  "kernelspec": {
   "display_name": "Python 3 (ipykernel)",
   "language": "python",
   "name": "python3"
  },
  "language_info": {
   "codemirror_mode": {
    "name": "ipython",
    "version": 3
   },
   "file_extension": ".py",
   "mimetype": "text/x-python",
   "name": "python",
   "nbconvert_exporter": "python",
   "pygments_lexer": "ipython3",
   "version": "3.8.12"
  }
 },
 "nbformat": 4,
 "nbformat_minor": 1
}